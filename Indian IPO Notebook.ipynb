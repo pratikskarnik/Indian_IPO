{
 "cells": [
  {
   "cell_type": "markdown",
   "metadata": {},
   "source": [
    "# Indian IPO Current Gains Prediction"
   ]
  },
  {
   "cell_type": "markdown",
   "metadata": {},
   "source": [
    "This Notebook focuses on long term value of investment in IPO and predict whether the IPO will be profitable in years to come or not based on the various features. The data consists of the IPOs which came from 2010 till 2020. I have made prediction on what could be the price of each IPO at the start of 2021, also in the end I have determined the accuracy of the algorithm, that is how many times it gives correct prediction whether the IPO gain percentage will go up or down based on the Current Gains % target column."
   ]
  },
  {
   "cell_type": "code",
   "execution_count": 1,
   "metadata": {},
   "outputs": [
    {
     "name": "stderr",
     "output_type": "stream",
     "text": [
      "C:\\Users\\PRATIK\\Documents\\ANACONDA\\lib\\site-packages\\numpy\\_distributor_init.py:32: UserWarning: loaded more than 1 DLL from .libs:\n",
      "C:\\Users\\PRATIK\\Documents\\ANACONDA\\lib\\site-packages\\numpy\\.libs\\libopenblas.NOIJJG62EMASZI6NYURL6JBKM4EVBGM7.gfortran-win_amd64.dll\n",
      "C:\\Users\\PRATIK\\Documents\\ANACONDA\\lib\\site-packages\\numpy\\.libs\\libopenblas.PYQHXLVVQ7VESDPUVUADXEVJOBGHJPAY.gfortran-win_amd64.dll\n",
      "  stacklevel=1)\n"
     ]
    }
   ],
   "source": [
    "#importing libraries\n",
    "import pandas as pd\n",
    "import numpy as np\n"
   ]
  },
  {
   "cell_type": "code",
   "execution_count": 2,
   "metadata": {},
   "outputs": [],
   "source": [
    "ipo=pd.read_excel(\"IPO.xlsx\")"
   ]
  },
  {
   "cell_type": "code",
   "execution_count": 3,
   "metadata": {},
   "outputs": [
    {
     "data": {
      "text/html": [
       "<div>\n",
       "<style scoped>\n",
       "    .dataframe tbody tr th:only-of-type {\n",
       "        vertical-align: middle;\n",
       "    }\n",
       "\n",
       "    .dataframe tbody tr th {\n",
       "        vertical-align: top;\n",
       "    }\n",
       "\n",
       "    .dataframe thead th {\n",
       "        text-align: right;\n",
       "    }\n",
       "</style>\n",
       "<table border=\"1\" class=\"dataframe\">\n",
       "  <thead>\n",
       "    <tr style=\"text-align: right;\">\n",
       "      <th></th>\n",
       "      <th>Date</th>\n",
       "      <th>IPO Name</th>\n",
       "      <th>Profile</th>\n",
       "      <th>Issue Size</th>\n",
       "      <th>QIB</th>\n",
       "      <th>HNI</th>\n",
       "      <th>RII</th>\n",
       "      <th>Total</th>\n",
       "      <th>Issue</th>\n",
       "      <th>Listing Open</th>\n",
       "      <th>Listing Close</th>\n",
       "      <th>Listing</th>\n",
       "      <th>CMP</th>\n",
       "      <th>Current</th>\n",
       "    </tr>\n",
       "  </thead>\n",
       "  <tbody>\n",
       "    <tr>\n",
       "      <th>0</th>\n",
       "      <td>NaT</td>\n",
       "      <td>NaN</td>\n",
       "      <td>NaN</td>\n",
       "      <td>(in crores)</td>\n",
       "      <td>NaN</td>\n",
       "      <td>NaN</td>\n",
       "      <td>NaN</td>\n",
       "      <td>NaN</td>\n",
       "      <td>NaN</td>\n",
       "      <td>NaN</td>\n",
       "      <td>NaN</td>\n",
       "      <td>Gains(%)</td>\n",
       "      <td>NaN</td>\n",
       "      <td>Gains (%)</td>\n",
       "    </tr>\n",
       "    <tr>\n",
       "      <th>1</th>\n",
       "      <td>2021-01-01</td>\n",
       "      <td>Antony Waste</td>\n",
       "      <td>View</td>\n",
       "      <td>300.53</td>\n",
       "      <td>0.64</td>\n",
       "      <td>0.28</td>\n",
       "      <td>7.22</td>\n",
       "      <td>3.85</td>\n",
       "      <td>315.0</td>\n",
       "      <td>430.00</td>\n",
       "      <td>407.25</td>\n",
       "      <td>29.29</td>\n",
       "      <td>313.85</td>\n",
       "      <td>-0.37</td>\n",
       "    </tr>\n",
       "    <tr>\n",
       "      <th>2</th>\n",
       "      <td>2020-12-24</td>\n",
       "      <td>Bectors Food</td>\n",
       "      <td>View</td>\n",
       "      <td>540.54</td>\n",
       "      <td>176.85</td>\n",
       "      <td>620.86</td>\n",
       "      <td>29.33</td>\n",
       "      <td>198.02</td>\n",
       "      <td>288.0</td>\n",
       "      <td>501.00</td>\n",
       "      <td>595.55</td>\n",
       "      <td>106.79</td>\n",
       "      <td>409.70</td>\n",
       "      <td>42.26</td>\n",
       "    </tr>\n",
       "    <tr>\n",
       "      <th>3</th>\n",
       "      <td>2020-12-14</td>\n",
       "      <td>Burger King</td>\n",
       "      <td>View</td>\n",
       "      <td>796.5</td>\n",
       "      <td>86.64</td>\n",
       "      <td>354.11</td>\n",
       "      <td>68.15</td>\n",
       "      <td>156.65</td>\n",
       "      <td>60.0</td>\n",
       "      <td>115.35</td>\n",
       "      <td>138.40</td>\n",
       "      <td>130.67</td>\n",
       "      <td>141.60</td>\n",
       "      <td>136</td>\n",
       "    </tr>\n",
       "    <tr>\n",
       "      <th>4</th>\n",
       "      <td>2020-11-20</td>\n",
       "      <td>Gland</td>\n",
       "      <td>View</td>\n",
       "      <td>6479.55</td>\n",
       "      <td>6.40</td>\n",
       "      <td>0.51</td>\n",
       "      <td>0.24</td>\n",
       "      <td>2.06</td>\n",
       "      <td>1500.0</td>\n",
       "      <td>1710.00</td>\n",
       "      <td>1820.45</td>\n",
       "      <td>21.36</td>\n",
       "      <td>2205.15</td>\n",
       "      <td>47.01</td>\n",
       "    </tr>\n",
       "  </tbody>\n",
       "</table>\n",
       "</div>"
      ],
      "text/plain": [
       "        Date      IPO Name Profile   Issue Size     QIB     HNI    RII  \\\n",
       "0        NaT           NaN     NaN  (in crores)     NaN     NaN    NaN   \n",
       "1 2021-01-01  Antony Waste    View       300.53    0.64    0.28   7.22   \n",
       "2 2020-12-24  Bectors Food    View       540.54  176.85  620.86  29.33   \n",
       "3 2020-12-14   Burger King    View        796.5   86.64  354.11  68.15   \n",
       "4 2020-11-20         Gland    View      6479.55    6.40    0.51   0.24   \n",
       "\n",
       "    Total   Issue  Listing Open  Listing Close    Listing      CMP     Current  \n",
       "0     NaN     NaN           NaN            NaN  Gains(%)       NaN  Gains (%)   \n",
       "1    3.85   315.0        430.00         407.25      29.29   313.85       -0.37  \n",
       "2  198.02   288.0        501.00         595.55     106.79   409.70       42.26  \n",
       "3  156.65    60.0        115.35         138.40     130.67   141.60         136  \n",
       "4    2.06  1500.0       1710.00        1820.45      21.36  2205.15       47.01  "
      ]
     },
     "execution_count": 3,
     "metadata": {},
     "output_type": "execute_result"
    }
   ],
   "source": [
    "ipo.head()"
   ]
  },
  {
   "cell_type": "markdown",
   "metadata": {},
   "source": [
    "#### Data Cleaning"
   ]
  },
  {
   "cell_type": "code",
   "execution_count": 4,
   "metadata": {},
   "outputs": [],
   "source": [
    "ipo=ipo[1:]"
   ]
  },
  {
   "cell_type": "code",
   "execution_count": 5,
   "metadata": {},
   "outputs": [
    {
     "data": {
      "text/html": [
       "<div>\n",
       "<style scoped>\n",
       "    .dataframe tbody tr th:only-of-type {\n",
       "        vertical-align: middle;\n",
       "    }\n",
       "\n",
       "    .dataframe tbody tr th {\n",
       "        vertical-align: top;\n",
       "    }\n",
       "\n",
       "    .dataframe thead th {\n",
       "        text-align: right;\n",
       "    }\n",
       "</style>\n",
       "<table border=\"1\" class=\"dataframe\">\n",
       "  <thead>\n",
       "    <tr style=\"text-align: right;\">\n",
       "      <th></th>\n",
       "      <th>Date</th>\n",
       "      <th>IPO Name</th>\n",
       "      <th>Profile</th>\n",
       "      <th>Issue Size</th>\n",
       "      <th>QIB</th>\n",
       "      <th>HNI</th>\n",
       "      <th>RII</th>\n",
       "      <th>Total</th>\n",
       "      <th>Issue</th>\n",
       "      <th>Listing Open</th>\n",
       "      <th>Listing Close</th>\n",
       "      <th>Listing</th>\n",
       "      <th>CMP</th>\n",
       "      <th>Current</th>\n",
       "    </tr>\n",
       "  </thead>\n",
       "  <tbody>\n",
       "    <tr>\n",
       "      <th>1</th>\n",
       "      <td>2021-01-01</td>\n",
       "      <td>Antony Waste</td>\n",
       "      <td>View</td>\n",
       "      <td>300.53</td>\n",
       "      <td>0.64</td>\n",
       "      <td>0.28</td>\n",
       "      <td>7.22</td>\n",
       "      <td>3.85</td>\n",
       "      <td>315.0</td>\n",
       "      <td>430.00</td>\n",
       "      <td>407.25</td>\n",
       "      <td>29.29</td>\n",
       "      <td>313.85</td>\n",
       "      <td>-0.37</td>\n",
       "    </tr>\n",
       "    <tr>\n",
       "      <th>2</th>\n",
       "      <td>2020-12-24</td>\n",
       "      <td>Bectors Food</td>\n",
       "      <td>View</td>\n",
       "      <td>540.54</td>\n",
       "      <td>176.85</td>\n",
       "      <td>620.86</td>\n",
       "      <td>29.33</td>\n",
       "      <td>198.02</td>\n",
       "      <td>288.0</td>\n",
       "      <td>501.00</td>\n",
       "      <td>595.55</td>\n",
       "      <td>106.79</td>\n",
       "      <td>409.70</td>\n",
       "      <td>42.26</td>\n",
       "    </tr>\n",
       "    <tr>\n",
       "      <th>3</th>\n",
       "      <td>2020-12-14</td>\n",
       "      <td>Burger King</td>\n",
       "      <td>View</td>\n",
       "      <td>796.5</td>\n",
       "      <td>86.64</td>\n",
       "      <td>354.11</td>\n",
       "      <td>68.15</td>\n",
       "      <td>156.65</td>\n",
       "      <td>60.0</td>\n",
       "      <td>115.35</td>\n",
       "      <td>138.40</td>\n",
       "      <td>130.67</td>\n",
       "      <td>141.60</td>\n",
       "      <td>136</td>\n",
       "    </tr>\n",
       "    <tr>\n",
       "      <th>4</th>\n",
       "      <td>2020-11-20</td>\n",
       "      <td>Gland</td>\n",
       "      <td>View</td>\n",
       "      <td>6479.55</td>\n",
       "      <td>6.40</td>\n",
       "      <td>0.51</td>\n",
       "      <td>0.24</td>\n",
       "      <td>2.06</td>\n",
       "      <td>1500.0</td>\n",
       "      <td>1710.00</td>\n",
       "      <td>1820.45</td>\n",
       "      <td>21.36</td>\n",
       "      <td>2205.15</td>\n",
       "      <td>47.01</td>\n",
       "    </tr>\n",
       "    <tr>\n",
       "      <th>5</th>\n",
       "      <td>2020-11-02</td>\n",
       "      <td>Equitas Bank</td>\n",
       "      <td>View</td>\n",
       "      <td>517.6</td>\n",
       "      <td>3.91</td>\n",
       "      <td>0.22</td>\n",
       "      <td>2.08</td>\n",
       "      <td>1.95</td>\n",
       "      <td>33.0</td>\n",
       "      <td>31.00</td>\n",
       "      <td>32.75</td>\n",
       "      <td>-0.76</td>\n",
       "      <td>40.90</td>\n",
       "      <td>23.94</td>\n",
       "    </tr>\n",
       "  </tbody>\n",
       "</table>\n",
       "</div>"
      ],
      "text/plain": [
       "        Date      IPO Name Profile Issue Size     QIB     HNI    RII   Total  \\\n",
       "1 2021-01-01  Antony Waste    View     300.53    0.64    0.28   7.22    3.85   \n",
       "2 2020-12-24  Bectors Food    View     540.54  176.85  620.86  29.33  198.02   \n",
       "3 2020-12-14   Burger King    View      796.5   86.64  354.11  68.15  156.65   \n",
       "4 2020-11-20         Gland    View    6479.55    6.40    0.51   0.24    2.06   \n",
       "5 2020-11-02  Equitas Bank    View      517.6    3.91    0.22   2.08    1.95   \n",
       "\n",
       "    Issue  Listing Open  Listing Close Listing      CMP Current  \n",
       "1   315.0        430.00         407.25   29.29   313.85   -0.37  \n",
       "2   288.0        501.00         595.55  106.79   409.70   42.26  \n",
       "3    60.0        115.35         138.40  130.67   141.60     136  \n",
       "4  1500.0       1710.00        1820.45   21.36  2205.15   47.01  \n",
       "5    33.0         31.00          32.75   -0.76    40.90   23.94  "
      ]
     },
     "execution_count": 5,
     "metadata": {},
     "output_type": "execute_result"
    }
   ],
   "source": [
    "ipo.head()"
   ]
  },
  {
   "cell_type": "code",
   "execution_count": 6,
   "metadata": {},
   "outputs": [
    {
     "data": {
      "text/plain": [
       "Date             0\n",
       "IPO Name         0\n",
       "Profile          0\n",
       "Issue Size       0\n",
       "QIB              0\n",
       "HNI              0\n",
       "RII              0\n",
       "Total            0\n",
       "Issue            0\n",
       "Listing Open     0\n",
       "Listing Close    0\n",
       "Listing          0\n",
       "CMP              0\n",
       "Current          2\n",
       "dtype: int64"
      ]
     },
     "execution_count": 6,
     "metadata": {},
     "output_type": "execute_result"
    }
   ],
   "source": [
    "ipo.isnull().sum()"
   ]
  },
  {
   "cell_type": "code",
   "execution_count": 7,
   "metadata": {},
   "outputs": [
    {
     "name": "stdout",
     "output_type": "stream",
     "text": [
      "<class 'pandas.core.frame.DataFrame'>\n",
      "RangeIndex: 237 entries, 1 to 237\n",
      "Data columns (total 14 columns):\n",
      " #   Column         Non-Null Count  Dtype         \n",
      "---  ------         --------------  -----         \n",
      " 0   Date           237 non-null    datetime64[ns]\n",
      " 1   IPO Name       237 non-null    object        \n",
      " 2   Profile        237 non-null    object        \n",
      " 3   Issue Size     237 non-null    object        \n",
      " 4   QIB            237 non-null    float64       \n",
      " 5   HNI            237 non-null    float64       \n",
      " 6   RII            237 non-null    float64       \n",
      " 7   Total          237 non-null    float64       \n",
      " 8   Issue          237 non-null    float64       \n",
      " 9   Listing Open   237 non-null    float64       \n",
      " 10  Listing Close  237 non-null    float64       \n",
      " 11  Listing        237 non-null    object        \n",
      " 12  CMP            237 non-null    float64       \n",
      " 13  Current        235 non-null    object        \n",
      "dtypes: datetime64[ns](1), float64(8), object(5)\n",
      "memory usage: 26.1+ KB\n"
     ]
    }
   ],
   "source": [
    "ipo.info()"
   ]
  },
  {
   "cell_type": "code",
   "execution_count": 8,
   "metadata": {},
   "outputs": [],
   "source": [
    "ipo=ipo.drop(['Profile'],axis=1)"
   ]
  },
  {
   "cell_type": "code",
   "execution_count": 9,
   "metadata": {},
   "outputs": [
    {
     "name": "stdout",
     "output_type": "stream",
     "text": [
      "<class 'pandas.core.frame.DataFrame'>\n",
      "RangeIndex: 237 entries, 1 to 237\n",
      "Data columns (total 13 columns):\n",
      " #   Column         Non-Null Count  Dtype         \n",
      "---  ------         --------------  -----         \n",
      " 0   Date           237 non-null    datetime64[ns]\n",
      " 1   IPO Name       237 non-null    object        \n",
      " 2   Issue Size     237 non-null    object        \n",
      " 3   QIB            237 non-null    float64       \n",
      " 4   HNI            237 non-null    float64       \n",
      " 5   RII            237 non-null    float64       \n",
      " 6   Total          237 non-null    float64       \n",
      " 7   Issue          237 non-null    float64       \n",
      " 8   Listing Open   237 non-null    float64       \n",
      " 9   Listing Close  237 non-null    float64       \n",
      " 10  Listing        237 non-null    object        \n",
      " 11  CMP            237 non-null    float64       \n",
      " 12  Current        235 non-null    object        \n",
      "dtypes: datetime64[ns](1), float64(8), object(4)\n",
      "memory usage: 24.2+ KB\n"
     ]
    }
   ],
   "source": [
    "ipo.info()"
   ]
  },
  {
   "cell_type": "code",
   "execution_count": 10,
   "metadata": {},
   "outputs": [
    {
     "data": {
      "text/html": [
       "<div>\n",
       "<style scoped>\n",
       "    .dataframe tbody tr th:only-of-type {\n",
       "        vertical-align: middle;\n",
       "    }\n",
       "\n",
       "    .dataframe tbody tr th {\n",
       "        vertical-align: top;\n",
       "    }\n",
       "\n",
       "    .dataframe thead th {\n",
       "        text-align: right;\n",
       "    }\n",
       "</style>\n",
       "<table border=\"1\" class=\"dataframe\">\n",
       "  <thead>\n",
       "    <tr style=\"text-align: right;\">\n",
       "      <th></th>\n",
       "      <th>QIB</th>\n",
       "      <th>HNI</th>\n",
       "      <th>RII</th>\n",
       "      <th>Total</th>\n",
       "      <th>Issue</th>\n",
       "      <th>Listing Open</th>\n",
       "      <th>Listing Close</th>\n",
       "      <th>CMP</th>\n",
       "    </tr>\n",
       "  </thead>\n",
       "  <tbody>\n",
       "    <tr>\n",
       "      <th>count</th>\n",
       "      <td>237.00000</td>\n",
       "      <td>237.000000</td>\n",
       "      <td>237.000000</td>\n",
       "      <td>237.000000</td>\n",
       "      <td>237.000000</td>\n",
       "      <td>237.000000</td>\n",
       "      <td>237.000000</td>\n",
       "      <td>237.000000</td>\n",
       "    </tr>\n",
       "    <tr>\n",
       "      <th>mean</th>\n",
       "      <td>23.01865</td>\n",
       "      <td>69.561435</td>\n",
       "      <td>7.120464</td>\n",
       "      <td>25.899367</td>\n",
       "      <td>318.459916</td>\n",
       "      <td>381.981013</td>\n",
       "      <td>327.340844</td>\n",
       "      <td>477.369325</td>\n",
       "    </tr>\n",
       "    <tr>\n",
       "      <th>std</th>\n",
       "      <td>36.48863</td>\n",
       "      <td>139.464538</td>\n",
       "      <td>11.415000</td>\n",
       "      <td>46.693735</td>\n",
       "      <td>318.463558</td>\n",
       "      <td>477.337279</td>\n",
       "      <td>370.297752</td>\n",
       "      <td>1229.016653</td>\n",
       "    </tr>\n",
       "    <tr>\n",
       "      <th>min</th>\n",
       "      <td>0.00000</td>\n",
       "      <td>0.000000</td>\n",
       "      <td>0.000000</td>\n",
       "      <td>0.000000</td>\n",
       "      <td>0.000000</td>\n",
       "      <td>9.500000</td>\n",
       "      <td>1.570000</td>\n",
       "      <td>0.040000</td>\n",
       "    </tr>\n",
       "    <tr>\n",
       "      <th>25%</th>\n",
       "      <td>1.13000</td>\n",
       "      <td>1.210000</td>\n",
       "      <td>1.210000</td>\n",
       "      <td>1.570000</td>\n",
       "      <td>108.000000</td>\n",
       "      <td>115.000000</td>\n",
       "      <td>89.290000</td>\n",
       "      <td>19.000000</td>\n",
       "    </tr>\n",
       "    <tr>\n",
       "      <th>50%</th>\n",
       "      <td>4.66000</td>\n",
       "      <td>5.000000</td>\n",
       "      <td>3.170000</td>\n",
       "      <td>4.670000</td>\n",
       "      <td>207.000000</td>\n",
       "      <td>237.000000</td>\n",
       "      <td>191.250000</td>\n",
       "      <td>135.400000</td>\n",
       "    </tr>\n",
       "    <tr>\n",
       "      <th>75%</th>\n",
       "      <td>30.49000</td>\n",
       "      <td>62.130000</td>\n",
       "      <td>8.120000</td>\n",
       "      <td>33.380000</td>\n",
       "      <td>425.000000</td>\n",
       "      <td>500.000000</td>\n",
       "      <td>438.000000</td>\n",
       "      <td>409.700000</td>\n",
       "    </tr>\n",
       "    <tr>\n",
       "      <th>max</th>\n",
       "      <td>176.85000</td>\n",
       "      <td>958.070000</td>\n",
       "      <td>77.930000</td>\n",
       "      <td>277.280000</td>\n",
       "      <td>1766.000000</td>\n",
       "      <td>4900.250000</td>\n",
       "      <td>2892.800000</td>\n",
       "      <td>14679.400000</td>\n",
       "    </tr>\n",
       "  </tbody>\n",
       "</table>\n",
       "</div>"
      ],
      "text/plain": [
       "             QIB         HNI         RII       Total        Issue  \\\n",
       "count  237.00000  237.000000  237.000000  237.000000   237.000000   \n",
       "mean    23.01865   69.561435    7.120464   25.899367   318.459916   \n",
       "std     36.48863  139.464538   11.415000   46.693735   318.463558   \n",
       "min      0.00000    0.000000    0.000000    0.000000     0.000000   \n",
       "25%      1.13000    1.210000    1.210000    1.570000   108.000000   \n",
       "50%      4.66000    5.000000    3.170000    4.670000   207.000000   \n",
       "75%     30.49000   62.130000    8.120000   33.380000   425.000000   \n",
       "max    176.85000  958.070000   77.930000  277.280000  1766.000000   \n",
       "\n",
       "       Listing Open  Listing Close           CMP  \n",
       "count    237.000000     237.000000    237.000000  \n",
       "mean     381.981013     327.340844    477.369325  \n",
       "std      477.337279     370.297752   1229.016653  \n",
       "min        9.500000       1.570000      0.040000  \n",
       "25%      115.000000      89.290000     19.000000  \n",
       "50%      237.000000     191.250000    135.400000  \n",
       "75%      500.000000     438.000000    409.700000  \n",
       "max     4900.250000    2892.800000  14679.400000  "
      ]
     },
     "execution_count": 10,
     "metadata": {},
     "output_type": "execute_result"
    }
   ],
   "source": [
    "ipo.describe()"
   ]
  },
  {
   "cell_type": "code",
   "execution_count": 11,
   "metadata": {},
   "outputs": [
    {
     "data": {
      "text/html": [
       "<div>\n",
       "<style scoped>\n",
       "    .dataframe tbody tr th:only-of-type {\n",
       "        vertical-align: middle;\n",
       "    }\n",
       "\n",
       "    .dataframe tbody tr th {\n",
       "        vertical-align: top;\n",
       "    }\n",
       "\n",
       "    .dataframe thead th {\n",
       "        text-align: right;\n",
       "    }\n",
       "</style>\n",
       "<table border=\"1\" class=\"dataframe\">\n",
       "  <thead>\n",
       "    <tr style=\"text-align: right;\">\n",
       "      <th></th>\n",
       "      <th>Date</th>\n",
       "      <th>IPO Name</th>\n",
       "      <th>Issue Size</th>\n",
       "      <th>QIB</th>\n",
       "      <th>HNI</th>\n",
       "      <th>RII</th>\n",
       "      <th>Total</th>\n",
       "      <th>Issue</th>\n",
       "      <th>Listing Open</th>\n",
       "      <th>Listing Close</th>\n",
       "      <th>Listing</th>\n",
       "      <th>CMP</th>\n",
       "      <th>Current</th>\n",
       "    </tr>\n",
       "  </thead>\n",
       "  <tbody>\n",
       "    <tr>\n",
       "      <th>1</th>\n",
       "      <td>2021-01-01</td>\n",
       "      <td>Antony Waste</td>\n",
       "      <td>300.53</td>\n",
       "      <td>0.64</td>\n",
       "      <td>0.28</td>\n",
       "      <td>7.22</td>\n",
       "      <td>3.85</td>\n",
       "      <td>315.0</td>\n",
       "      <td>430.00</td>\n",
       "      <td>407.25</td>\n",
       "      <td>29.29</td>\n",
       "      <td>313.85</td>\n",
       "      <td>-0.37</td>\n",
       "    </tr>\n",
       "    <tr>\n",
       "      <th>2</th>\n",
       "      <td>2020-12-24</td>\n",
       "      <td>Bectors Food</td>\n",
       "      <td>540.54</td>\n",
       "      <td>176.85</td>\n",
       "      <td>620.86</td>\n",
       "      <td>29.33</td>\n",
       "      <td>198.02</td>\n",
       "      <td>288.0</td>\n",
       "      <td>501.00</td>\n",
       "      <td>595.55</td>\n",
       "      <td>106.79</td>\n",
       "      <td>409.70</td>\n",
       "      <td>42.26</td>\n",
       "    </tr>\n",
       "    <tr>\n",
       "      <th>3</th>\n",
       "      <td>2020-12-14</td>\n",
       "      <td>Burger King</td>\n",
       "      <td>796.5</td>\n",
       "      <td>86.64</td>\n",
       "      <td>354.11</td>\n",
       "      <td>68.15</td>\n",
       "      <td>156.65</td>\n",
       "      <td>60.0</td>\n",
       "      <td>115.35</td>\n",
       "      <td>138.40</td>\n",
       "      <td>130.67</td>\n",
       "      <td>141.60</td>\n",
       "      <td>136</td>\n",
       "    </tr>\n",
       "    <tr>\n",
       "      <th>4</th>\n",
       "      <td>2020-11-20</td>\n",
       "      <td>Gland</td>\n",
       "      <td>6479.55</td>\n",
       "      <td>6.40</td>\n",
       "      <td>0.51</td>\n",
       "      <td>0.24</td>\n",
       "      <td>2.06</td>\n",
       "      <td>1500.0</td>\n",
       "      <td>1710.00</td>\n",
       "      <td>1820.45</td>\n",
       "      <td>21.36</td>\n",
       "      <td>2205.15</td>\n",
       "      <td>47.01</td>\n",
       "    </tr>\n",
       "    <tr>\n",
       "      <th>5</th>\n",
       "      <td>2020-11-02</td>\n",
       "      <td>Equitas Bank</td>\n",
       "      <td>517.6</td>\n",
       "      <td>3.91</td>\n",
       "      <td>0.22</td>\n",
       "      <td>2.08</td>\n",
       "      <td>1.95</td>\n",
       "      <td>33.0</td>\n",
       "      <td>31.00</td>\n",
       "      <td>32.75</td>\n",
       "      <td>-0.76</td>\n",
       "      <td>40.90</td>\n",
       "      <td>23.94</td>\n",
       "    </tr>\n",
       "  </tbody>\n",
       "</table>\n",
       "</div>"
      ],
      "text/plain": [
       "        Date      IPO Name Issue Size     QIB     HNI    RII   Total   Issue  \\\n",
       "1 2021-01-01  Antony Waste     300.53    0.64    0.28   7.22    3.85   315.0   \n",
       "2 2020-12-24  Bectors Food     540.54  176.85  620.86  29.33  198.02   288.0   \n",
       "3 2020-12-14   Burger King      796.5   86.64  354.11  68.15  156.65    60.0   \n",
       "4 2020-11-20         Gland    6479.55    6.40    0.51   0.24    2.06  1500.0   \n",
       "5 2020-11-02  Equitas Bank      517.6    3.91    0.22   2.08    1.95    33.0   \n",
       "\n",
       "   Listing Open  Listing Close Listing      CMP Current  \n",
       "1        430.00         407.25   29.29   313.85   -0.37  \n",
       "2        501.00         595.55  106.79   409.70   42.26  \n",
       "3        115.35         138.40  130.67   141.60     136  \n",
       "4       1710.00        1820.45   21.36  2205.15   47.01  \n",
       "5         31.00          32.75   -0.76    40.90   23.94  "
      ]
     },
     "execution_count": 11,
     "metadata": {},
     "output_type": "execute_result"
    }
   ],
   "source": [
    "ipo.head()"
   ]
  },
  {
   "cell_type": "code",
   "execution_count": 12,
   "metadata": {},
   "outputs": [],
   "source": [
    "ipo=ipo.dropna(axis=0)"
   ]
  },
  {
   "cell_type": "code",
   "execution_count": 13,
   "metadata": {},
   "outputs": [
    {
     "data": {
      "text/html": [
       "<div>\n",
       "<style scoped>\n",
       "    .dataframe tbody tr th:only-of-type {\n",
       "        vertical-align: middle;\n",
       "    }\n",
       "\n",
       "    .dataframe tbody tr th {\n",
       "        vertical-align: top;\n",
       "    }\n",
       "\n",
       "    .dataframe thead th {\n",
       "        text-align: right;\n",
       "    }\n",
       "</style>\n",
       "<table border=\"1\" class=\"dataframe\">\n",
       "  <thead>\n",
       "    <tr style=\"text-align: right;\">\n",
       "      <th></th>\n",
       "      <th>Date</th>\n",
       "      <th>IPO Name</th>\n",
       "      <th>Issue Size</th>\n",
       "      <th>QIB</th>\n",
       "      <th>HNI</th>\n",
       "      <th>RII</th>\n",
       "      <th>Total</th>\n",
       "      <th>Issue</th>\n",
       "      <th>Listing Open</th>\n",
       "      <th>Listing Close</th>\n",
       "      <th>Listing</th>\n",
       "      <th>CMP</th>\n",
       "      <th>Current</th>\n",
       "    </tr>\n",
       "  </thead>\n",
       "  <tbody>\n",
       "    <tr>\n",
       "      <th>1</th>\n",
       "      <td>2021-01-01</td>\n",
       "      <td>Antony Waste</td>\n",
       "      <td>300.53</td>\n",
       "      <td>0.64</td>\n",
       "      <td>0.28</td>\n",
       "      <td>7.22</td>\n",
       "      <td>3.85</td>\n",
       "      <td>315.0</td>\n",
       "      <td>430.00</td>\n",
       "      <td>407.25</td>\n",
       "      <td>29.29</td>\n",
       "      <td>313.85</td>\n",
       "      <td>-0.37</td>\n",
       "    </tr>\n",
       "    <tr>\n",
       "      <th>2</th>\n",
       "      <td>2020-12-24</td>\n",
       "      <td>Bectors Food</td>\n",
       "      <td>540.54</td>\n",
       "      <td>176.85</td>\n",
       "      <td>620.86</td>\n",
       "      <td>29.33</td>\n",
       "      <td>198.02</td>\n",
       "      <td>288.0</td>\n",
       "      <td>501.00</td>\n",
       "      <td>595.55</td>\n",
       "      <td>106.79</td>\n",
       "      <td>409.70</td>\n",
       "      <td>42.26</td>\n",
       "    </tr>\n",
       "    <tr>\n",
       "      <th>3</th>\n",
       "      <td>2020-12-14</td>\n",
       "      <td>Burger King</td>\n",
       "      <td>796.5</td>\n",
       "      <td>86.64</td>\n",
       "      <td>354.11</td>\n",
       "      <td>68.15</td>\n",
       "      <td>156.65</td>\n",
       "      <td>60.0</td>\n",
       "      <td>115.35</td>\n",
       "      <td>138.40</td>\n",
       "      <td>130.67</td>\n",
       "      <td>141.60</td>\n",
       "      <td>136</td>\n",
       "    </tr>\n",
       "    <tr>\n",
       "      <th>4</th>\n",
       "      <td>2020-11-20</td>\n",
       "      <td>Gland</td>\n",
       "      <td>6479.55</td>\n",
       "      <td>6.40</td>\n",
       "      <td>0.51</td>\n",
       "      <td>0.24</td>\n",
       "      <td>2.06</td>\n",
       "      <td>1500.0</td>\n",
       "      <td>1710.00</td>\n",
       "      <td>1820.45</td>\n",
       "      <td>21.36</td>\n",
       "      <td>2205.15</td>\n",
       "      <td>47.01</td>\n",
       "    </tr>\n",
       "    <tr>\n",
       "      <th>5</th>\n",
       "      <td>2020-11-02</td>\n",
       "      <td>Equitas Bank</td>\n",
       "      <td>517.6</td>\n",
       "      <td>3.91</td>\n",
       "      <td>0.22</td>\n",
       "      <td>2.08</td>\n",
       "      <td>1.95</td>\n",
       "      <td>33.0</td>\n",
       "      <td>31.00</td>\n",
       "      <td>32.75</td>\n",
       "      <td>-0.76</td>\n",
       "      <td>40.90</td>\n",
       "      <td>23.94</td>\n",
       "    </tr>\n",
       "  </tbody>\n",
       "</table>\n",
       "</div>"
      ],
      "text/plain": [
       "        Date      IPO Name Issue Size     QIB     HNI    RII   Total   Issue  \\\n",
       "1 2021-01-01  Antony Waste     300.53    0.64    0.28   7.22    3.85   315.0   \n",
       "2 2020-12-24  Bectors Food     540.54  176.85  620.86  29.33  198.02   288.0   \n",
       "3 2020-12-14   Burger King      796.5   86.64  354.11  68.15  156.65    60.0   \n",
       "4 2020-11-20         Gland    6479.55    6.40    0.51   0.24    2.06  1500.0   \n",
       "5 2020-11-02  Equitas Bank      517.6    3.91    0.22   2.08    1.95    33.0   \n",
       "\n",
       "   Listing Open  Listing Close Listing      CMP Current  \n",
       "1        430.00         407.25   29.29   313.85   -0.37  \n",
       "2        501.00         595.55  106.79   409.70   42.26  \n",
       "3        115.35         138.40  130.67   141.60     136  \n",
       "4       1710.00        1820.45   21.36  2205.15   47.01  \n",
       "5         31.00          32.75   -0.76    40.90   23.94  "
      ]
     },
     "execution_count": 13,
     "metadata": {},
     "output_type": "execute_result"
    }
   ],
   "source": [
    "ipo.head()"
   ]
  },
  {
   "cell_type": "code",
   "execution_count": 14,
   "metadata": {},
   "outputs": [
    {
     "name": "stdout",
     "output_type": "stream",
     "text": [
      "<class 'pandas.core.frame.DataFrame'>\n",
      "Int64Index: 235 entries, 1 to 237\n",
      "Data columns (total 13 columns):\n",
      " #   Column         Non-Null Count  Dtype         \n",
      "---  ------         --------------  -----         \n",
      " 0   Date           235 non-null    datetime64[ns]\n",
      " 1   IPO Name       235 non-null    object        \n",
      " 2   Issue Size     235 non-null    object        \n",
      " 3   QIB            235 non-null    float64       \n",
      " 4   HNI            235 non-null    float64       \n",
      " 5   RII            235 non-null    float64       \n",
      " 6   Total          235 non-null    float64       \n",
      " 7   Issue          235 non-null    float64       \n",
      " 8   Listing Open   235 non-null    float64       \n",
      " 9   Listing Close  235 non-null    float64       \n",
      " 10  Listing        235 non-null    object        \n",
      " 11  CMP            235 non-null    float64       \n",
      " 12  Current        235 non-null    object        \n",
      "dtypes: datetime64[ns](1), float64(8), object(4)\n",
      "memory usage: 25.7+ KB\n"
     ]
    }
   ],
   "source": [
    "ipo.info()"
   ]
  },
  {
   "cell_type": "code",
   "execution_count": 15,
   "metadata": {},
   "outputs": [
    {
     "data": {
      "text/plain": [
       "-5.00     2\n",
       " 0.59     2\n",
       " 23.19    2\n",
       " 7.35     2\n",
       "-13.67    1\n",
       "         ..\n",
       " 34.77    1\n",
       " 3.27     1\n",
       "-8.02     1\n",
       "-10.49    1\n",
       "-0.76     1\n",
       "Name: Listing, Length: 231, dtype: int64"
      ]
     },
     "execution_count": 15,
     "metadata": {},
     "output_type": "execute_result"
    }
   ],
   "source": [
    "ipo.Listing.value_counts()"
   ]
  },
  {
   "cell_type": "code",
   "execution_count": 16,
   "metadata": {},
   "outputs": [],
   "source": [
    "ipo['Listing']=ipo['Listing'].astype('float64')"
   ]
  },
  {
   "cell_type": "code",
   "execution_count": 17,
   "metadata": {},
   "outputs": [],
   "source": [
    "ipo['Current']=ipo['Current'].astype('float64')"
   ]
  },
  {
   "cell_type": "code",
   "execution_count": 18,
   "metadata": {},
   "outputs": [
    {
     "data": {
      "text/html": [
       "<div>\n",
       "<style scoped>\n",
       "    .dataframe tbody tr th:only-of-type {\n",
       "        vertical-align: middle;\n",
       "    }\n",
       "\n",
       "    .dataframe tbody tr th {\n",
       "        vertical-align: top;\n",
       "    }\n",
       "\n",
       "    .dataframe thead th {\n",
       "        text-align: right;\n",
       "    }\n",
       "</style>\n",
       "<table border=\"1\" class=\"dataframe\">\n",
       "  <thead>\n",
       "    <tr style=\"text-align: right;\">\n",
       "      <th></th>\n",
       "      <th>QIB</th>\n",
       "      <th>HNI</th>\n",
       "      <th>RII</th>\n",
       "      <th>Total</th>\n",
       "      <th>Issue</th>\n",
       "      <th>Listing Open</th>\n",
       "      <th>Listing Close</th>\n",
       "      <th>Listing</th>\n",
       "      <th>CMP</th>\n",
       "      <th>Current</th>\n",
       "    </tr>\n",
       "  </thead>\n",
       "  <tbody>\n",
       "    <tr>\n",
       "      <th>count</th>\n",
       "      <td>235.000000</td>\n",
       "      <td>235.000000</td>\n",
       "      <td>235.00000</td>\n",
       "      <td>235.000000</td>\n",
       "      <td>235.000000</td>\n",
       "      <td>235.000000</td>\n",
       "      <td>235.000000</td>\n",
       "      <td>235.000000</td>\n",
       "      <td>235.000000</td>\n",
       "      <td>235.000000</td>\n",
       "    </tr>\n",
       "    <tr>\n",
       "      <th>mean</th>\n",
       "      <td>23.076468</td>\n",
       "      <td>69.668340</td>\n",
       "      <td>7.10966</td>\n",
       "      <td>25.939404</td>\n",
       "      <td>321.170213</td>\n",
       "      <td>383.767660</td>\n",
       "      <td>328.622255</td>\n",
       "      <td>1.824213</td>\n",
       "      <td>477.533532</td>\n",
       "      <td>16.584681</td>\n",
       "    </tr>\n",
       "    <tr>\n",
       "      <th>std</th>\n",
       "      <td>36.615061</td>\n",
       "      <td>139.955661</td>\n",
       "      <td>11.44112</td>\n",
       "      <td>46.854408</td>\n",
       "      <td>318.452006</td>\n",
       "      <td>478.920834</td>\n",
       "      <td>371.527423</td>\n",
       "      <td>45.852772</td>\n",
       "      <td>1234.015731</td>\n",
       "      <td>187.084415</td>\n",
       "    </tr>\n",
       "    <tr>\n",
       "      <th>min</th>\n",
       "      <td>0.000000</td>\n",
       "      <td>0.000000</td>\n",
       "      <td>0.00000</td>\n",
       "      <td>0.000000</td>\n",
       "      <td>10.000000</td>\n",
       "      <td>9.500000</td>\n",
       "      <td>1.570000</td>\n",
       "      <td>-97.150000</td>\n",
       "      <td>0.040000</td>\n",
       "      <td>-99.930000</td>\n",
       "    </tr>\n",
       "    <tr>\n",
       "      <th>25%</th>\n",
       "      <td>1.125000</td>\n",
       "      <td>1.255000</td>\n",
       "      <td>1.22000</td>\n",
       "      <td>1.570000</td>\n",
       "      <td>109.000000</td>\n",
       "      <td>115.175000</td>\n",
       "      <td>88.570000</td>\n",
       "      <td>-13.945000</td>\n",
       "      <td>18.250000</td>\n",
       "      <td>-88.645000</td>\n",
       "    </tr>\n",
       "    <tr>\n",
       "      <th>50%</th>\n",
       "      <td>4.660000</td>\n",
       "      <td>5.000000</td>\n",
       "      <td>3.17000</td>\n",
       "      <td>4.670000</td>\n",
       "      <td>210.000000</td>\n",
       "      <td>237.000000</td>\n",
       "      <td>191.250000</td>\n",
       "      <td>0.710000</td>\n",
       "      <td>131.800000</td>\n",
       "      <td>-33.980000</td>\n",
       "    </tr>\n",
       "    <tr>\n",
       "      <th>75%</th>\n",
       "      <td>29.410000</td>\n",
       "      <td>61.705000</td>\n",
       "      <td>8.06000</td>\n",
       "      <td>32.715000</td>\n",
       "      <td>426.500000</td>\n",
       "      <td>500.500000</td>\n",
       "      <td>441.450000</td>\n",
       "      <td>23.070000</td>\n",
       "      <td>408.100000</td>\n",
       "      <td>52.460000</td>\n",
       "    </tr>\n",
       "    <tr>\n",
       "      <th>max</th>\n",
       "      <td>176.850000</td>\n",
       "      <td>958.070000</td>\n",
       "      <td>77.93000</td>\n",
       "      <td>277.280000</td>\n",
       "      <td>1766.000000</td>\n",
       "      <td>4900.250000</td>\n",
       "      <td>2892.800000</td>\n",
       "      <td>153.500000</td>\n",
       "      <td>14679.400000</td>\n",
       "      <td>1805.830000</td>\n",
       "    </tr>\n",
       "  </tbody>\n",
       "</table>\n",
       "</div>"
      ],
      "text/plain": [
       "              QIB         HNI        RII       Total        Issue  \\\n",
       "count  235.000000  235.000000  235.00000  235.000000   235.000000   \n",
       "mean    23.076468   69.668340    7.10966   25.939404   321.170213   \n",
       "std     36.615061  139.955661   11.44112   46.854408   318.452006   \n",
       "min      0.000000    0.000000    0.00000    0.000000    10.000000   \n",
       "25%      1.125000    1.255000    1.22000    1.570000   109.000000   \n",
       "50%      4.660000    5.000000    3.17000    4.670000   210.000000   \n",
       "75%     29.410000   61.705000    8.06000   32.715000   426.500000   \n",
       "max    176.850000  958.070000   77.93000  277.280000  1766.000000   \n",
       "\n",
       "       Listing Open  Listing Close     Listing           CMP      Current  \n",
       "count    235.000000     235.000000  235.000000    235.000000   235.000000  \n",
       "mean     383.767660     328.622255    1.824213    477.533532    16.584681  \n",
       "std      478.920834     371.527423   45.852772   1234.015731   187.084415  \n",
       "min        9.500000       1.570000  -97.150000      0.040000   -99.930000  \n",
       "25%      115.175000      88.570000  -13.945000     18.250000   -88.645000  \n",
       "50%      237.000000     191.250000    0.710000    131.800000   -33.980000  \n",
       "75%      500.500000     441.450000   23.070000    408.100000    52.460000  \n",
       "max     4900.250000    2892.800000  153.500000  14679.400000  1805.830000  "
      ]
     },
     "execution_count": 18,
     "metadata": {},
     "output_type": "execute_result"
    }
   ],
   "source": [
    "ipo.describe()"
   ]
  },
  {
   "cell_type": "code",
   "execution_count": 19,
   "metadata": {},
   "outputs": [
    {
     "name": "stdout",
     "output_type": "stream",
     "text": [
      "<class 'pandas.core.frame.DataFrame'>\n",
      "Int64Index: 235 entries, 1 to 237\n",
      "Data columns (total 13 columns):\n",
      " #   Column         Non-Null Count  Dtype         \n",
      "---  ------         --------------  -----         \n",
      " 0   Date           235 non-null    datetime64[ns]\n",
      " 1   IPO Name       235 non-null    object        \n",
      " 2   Issue Size     235 non-null    object        \n",
      " 3   QIB            235 non-null    float64       \n",
      " 4   HNI            235 non-null    float64       \n",
      " 5   RII            235 non-null    float64       \n",
      " 6   Total          235 non-null    float64       \n",
      " 7   Issue          235 non-null    float64       \n",
      " 8   Listing Open   235 non-null    float64       \n",
      " 9   Listing Close  235 non-null    float64       \n",
      " 10  Listing        235 non-null    float64       \n",
      " 11  CMP            235 non-null    float64       \n",
      " 12  Current        235 non-null    float64       \n",
      "dtypes: datetime64[ns](1), float64(10), object(2)\n",
      "memory usage: 25.7+ KB\n"
     ]
    }
   ],
   "source": [
    "ipo.info()"
   ]
  },
  {
   "cell_type": "code",
   "execution_count": 20,
   "metadata": {},
   "outputs": [],
   "source": [
    "ipo['Issue Size']=ipo['Issue Size'].astype('float64')"
   ]
  },
  {
   "cell_type": "code",
   "execution_count": 21,
   "metadata": {},
   "outputs": [
    {
     "name": "stdout",
     "output_type": "stream",
     "text": [
      "<class 'pandas.core.frame.DataFrame'>\n",
      "Int64Index: 235 entries, 1 to 237\n",
      "Data columns (total 13 columns):\n",
      " #   Column         Non-Null Count  Dtype         \n",
      "---  ------         --------------  -----         \n",
      " 0   Date           235 non-null    datetime64[ns]\n",
      " 1   IPO Name       235 non-null    object        \n",
      " 2   Issue Size     235 non-null    float64       \n",
      " 3   QIB            235 non-null    float64       \n",
      " 4   HNI            235 non-null    float64       \n",
      " 5   RII            235 non-null    float64       \n",
      " 6   Total          235 non-null    float64       \n",
      " 7   Issue          235 non-null    float64       \n",
      " 8   Listing Open   235 non-null    float64       \n",
      " 9   Listing Close  235 non-null    float64       \n",
      " 10  Listing        235 non-null    float64       \n",
      " 11  CMP            235 non-null    float64       \n",
      " 12  Current        235 non-null    float64       \n",
      "dtypes: datetime64[ns](1), float64(11), object(1)\n",
      "memory usage: 25.7+ KB\n"
     ]
    }
   ],
   "source": [
    "ipo.info()"
   ]
  },
  {
   "cell_type": "code",
   "execution_count": 22,
   "metadata": {},
   "outputs": [
    {
     "data": {
      "text/html": [
       "<div>\n",
       "<style scoped>\n",
       "    .dataframe tbody tr th:only-of-type {\n",
       "        vertical-align: middle;\n",
       "    }\n",
       "\n",
       "    .dataframe tbody tr th {\n",
       "        vertical-align: top;\n",
       "    }\n",
       "\n",
       "    .dataframe thead th {\n",
       "        text-align: right;\n",
       "    }\n",
       "</style>\n",
       "<table border=\"1\" class=\"dataframe\">\n",
       "  <thead>\n",
       "    <tr style=\"text-align: right;\">\n",
       "      <th></th>\n",
       "      <th>Issue Size</th>\n",
       "      <th>QIB</th>\n",
       "      <th>HNI</th>\n",
       "      <th>RII</th>\n",
       "      <th>Total</th>\n",
       "      <th>Issue</th>\n",
       "      <th>Listing Open</th>\n",
       "      <th>Listing Close</th>\n",
       "      <th>Listing</th>\n",
       "      <th>CMP</th>\n",
       "      <th>Current</th>\n",
       "    </tr>\n",
       "  </thead>\n",
       "  <tbody>\n",
       "    <tr>\n",
       "      <th>Issue Size</th>\n",
       "      <td>1.000000</td>\n",
       "      <td>0.018203</td>\n",
       "      <td>-0.077482</td>\n",
       "      <td>-0.147723</td>\n",
       "      <td>-0.070540</td>\n",
       "      <td>0.303427</td>\n",
       "      <td>0.222284</td>\n",
       "      <td>0.255274</td>\n",
       "      <td>0.038158</td>\n",
       "      <td>0.088988</td>\n",
       "      <td>0.039705</td>\n",
       "    </tr>\n",
       "    <tr>\n",
       "      <th>QIB</th>\n",
       "      <td>0.018203</td>\n",
       "      <td>1.000000</td>\n",
       "      <td>0.792187</td>\n",
       "      <td>0.496792</td>\n",
       "      <td>0.810242</td>\n",
       "      <td>0.216701</td>\n",
       "      <td>0.261365</td>\n",
       "      <td>0.365791</td>\n",
       "      <td>0.429312</td>\n",
       "      <td>0.321028</td>\n",
       "      <td>0.331862</td>\n",
       "    </tr>\n",
       "    <tr>\n",
       "      <th>HNI</th>\n",
       "      <td>-0.077482</td>\n",
       "      <td>0.792187</td>\n",
       "      <td>1.000000</td>\n",
       "      <td>0.693124</td>\n",
       "      <td>0.948793</td>\n",
       "      <td>0.057523</td>\n",
       "      <td>0.133164</td>\n",
       "      <td>0.196700</td>\n",
       "      <td>0.467429</td>\n",
       "      <td>0.156595</td>\n",
       "      <td>0.178973</td>\n",
       "    </tr>\n",
       "    <tr>\n",
       "      <th>RII</th>\n",
       "      <td>-0.147723</td>\n",
       "      <td>0.496792</td>\n",
       "      <td>0.693124</td>\n",
       "      <td>1.000000</td>\n",
       "      <td>0.794916</td>\n",
       "      <td>-0.079766</td>\n",
       "      <td>-0.000619</td>\n",
       "      <td>0.024640</td>\n",
       "      <td>0.473438</td>\n",
       "      <td>0.017111</td>\n",
       "      <td>0.092698</td>\n",
       "    </tr>\n",
       "    <tr>\n",
       "      <th>Total</th>\n",
       "      <td>-0.070540</td>\n",
       "      <td>0.810242</td>\n",
       "      <td>0.948793</td>\n",
       "      <td>0.794916</td>\n",
       "      <td>1.000000</td>\n",
       "      <td>0.064327</td>\n",
       "      <td>0.139281</td>\n",
       "      <td>0.209868</td>\n",
       "      <td>0.529146</td>\n",
       "      <td>0.177764</td>\n",
       "      <td>0.218593</td>\n",
       "    </tr>\n",
       "    <tr>\n",
       "      <th>Issue</th>\n",
       "      <td>0.303427</td>\n",
       "      <td>0.216701</td>\n",
       "      <td>0.057523</td>\n",
       "      <td>-0.079766</td>\n",
       "      <td>0.064327</td>\n",
       "      <td>1.000000</td>\n",
       "      <td>0.788615</td>\n",
       "      <td>0.855322</td>\n",
       "      <td>0.010963</td>\n",
       "      <td>0.569800</td>\n",
       "      <td>0.173788</td>\n",
       "    </tr>\n",
       "    <tr>\n",
       "      <th>Listing Open</th>\n",
       "      <td>0.222284</td>\n",
       "      <td>0.261365</td>\n",
       "      <td>0.133164</td>\n",
       "      <td>-0.000619</td>\n",
       "      <td>0.139281</td>\n",
       "      <td>0.788615</td>\n",
       "      <td>1.000000</td>\n",
       "      <td>0.725842</td>\n",
       "      <td>0.080057</td>\n",
       "      <td>0.523055</td>\n",
       "      <td>0.186902</td>\n",
       "    </tr>\n",
       "    <tr>\n",
       "      <th>Listing Close</th>\n",
       "      <td>0.255274</td>\n",
       "      <td>0.365791</td>\n",
       "      <td>0.196700</td>\n",
       "      <td>0.024640</td>\n",
       "      <td>0.209868</td>\n",
       "      <td>0.855322</td>\n",
       "      <td>0.725842</td>\n",
       "      <td>1.000000</td>\n",
       "      <td>0.342004</td>\n",
       "      <td>0.736008</td>\n",
       "      <td>0.309153</td>\n",
       "    </tr>\n",
       "    <tr>\n",
       "      <th>Listing</th>\n",
       "      <td>0.038158</td>\n",
       "      <td>0.429312</td>\n",
       "      <td>0.467429</td>\n",
       "      <td>0.473438</td>\n",
       "      <td>0.529146</td>\n",
       "      <td>0.010963</td>\n",
       "      <td>0.080057</td>\n",
       "      <td>0.342004</td>\n",
       "      <td>1.000000</td>\n",
       "      <td>0.196748</td>\n",
       "      <td>0.244026</td>\n",
       "    </tr>\n",
       "    <tr>\n",
       "      <th>CMP</th>\n",
       "      <td>0.088988</td>\n",
       "      <td>0.321028</td>\n",
       "      <td>0.156595</td>\n",
       "      <td>0.017111</td>\n",
       "      <td>0.177764</td>\n",
       "      <td>0.569800</td>\n",
       "      <td>0.523055</td>\n",
       "      <td>0.736008</td>\n",
       "      <td>0.196748</td>\n",
       "      <td>1.000000</td>\n",
       "      <td>0.604783</td>\n",
       "    </tr>\n",
       "    <tr>\n",
       "      <th>Current</th>\n",
       "      <td>0.039705</td>\n",
       "      <td>0.331862</td>\n",
       "      <td>0.178973</td>\n",
       "      <td>0.092698</td>\n",
       "      <td>0.218593</td>\n",
       "      <td>0.173788</td>\n",
       "      <td>0.186902</td>\n",
       "      <td>0.309153</td>\n",
       "      <td>0.244026</td>\n",
       "      <td>0.604783</td>\n",
       "      <td>1.000000</td>\n",
       "    </tr>\n",
       "  </tbody>\n",
       "</table>\n",
       "</div>"
      ],
      "text/plain": [
       "               Issue Size       QIB       HNI       RII     Total     Issue  \\\n",
       "Issue Size       1.000000  0.018203 -0.077482 -0.147723 -0.070540  0.303427   \n",
       "QIB              0.018203  1.000000  0.792187  0.496792  0.810242  0.216701   \n",
       "HNI             -0.077482  0.792187  1.000000  0.693124  0.948793  0.057523   \n",
       "RII             -0.147723  0.496792  0.693124  1.000000  0.794916 -0.079766   \n",
       "Total           -0.070540  0.810242  0.948793  0.794916  1.000000  0.064327   \n",
       "Issue            0.303427  0.216701  0.057523 -0.079766  0.064327  1.000000   \n",
       "Listing Open     0.222284  0.261365  0.133164 -0.000619  0.139281  0.788615   \n",
       "Listing Close    0.255274  0.365791  0.196700  0.024640  0.209868  0.855322   \n",
       "Listing          0.038158  0.429312  0.467429  0.473438  0.529146  0.010963   \n",
       "CMP              0.088988  0.321028  0.156595  0.017111  0.177764  0.569800   \n",
       "Current          0.039705  0.331862  0.178973  0.092698  0.218593  0.173788   \n",
       "\n",
       "               Listing Open  Listing Close   Listing       CMP   Current  \n",
       "Issue Size         0.222284       0.255274  0.038158  0.088988  0.039705  \n",
       "QIB                0.261365       0.365791  0.429312  0.321028  0.331862  \n",
       "HNI                0.133164       0.196700  0.467429  0.156595  0.178973  \n",
       "RII               -0.000619       0.024640  0.473438  0.017111  0.092698  \n",
       "Total              0.139281       0.209868  0.529146  0.177764  0.218593  \n",
       "Issue              0.788615       0.855322  0.010963  0.569800  0.173788  \n",
       "Listing Open       1.000000       0.725842  0.080057  0.523055  0.186902  \n",
       "Listing Close      0.725842       1.000000  0.342004  0.736008  0.309153  \n",
       "Listing            0.080057       0.342004  1.000000  0.196748  0.244026  \n",
       "CMP                0.523055       0.736008  0.196748  1.000000  0.604783  \n",
       "Current            0.186902       0.309153  0.244026  0.604783  1.000000  "
      ]
     },
     "execution_count": 22,
     "metadata": {},
     "output_type": "execute_result"
    }
   ],
   "source": [
    "ipo.corr()"
   ]
  },
  {
   "cell_type": "markdown",
   "metadata": {},
   "source": [
    "#### Feature Selection"
   ]
  },
  {
   "cell_type": "code",
   "execution_count": 23,
   "metadata": {},
   "outputs": [
    {
     "data": {
      "text/plain": [
       "<AxesSubplot:>"
      ]
     },
     "execution_count": 23,
     "metadata": {},
     "output_type": "execute_result"
    },
    {
     "data": {
      "image/png": "[encoded data removed]",
      "text/plain": [
       "<Figure size 432x288 with 2 Axes>"
      ]
     },
     "metadata": {
      "needs_background": "light"
     },
     "output_type": "display_data"
    }
   ],
   "source": [
    "import seaborn as sns\n",
    "%matplotlib inline\n",
    "\n",
    "corr = ipo.corr()\n",
    "\n",
    "# plot the heatmap\n",
    "sns.heatmap(corr, \n",
    "        xticklabels=corr.columns,\n",
    "        yticklabels=corr.columns,annot=True)"
   ]
  },
  {
   "cell_type": "code",
   "execution_count": 24,
   "metadata": {},
   "outputs": [
    {
     "data": {
      "text/plain": [
       "Index(['Date', 'IPO Name', 'Issue Size', 'QIB', 'HNI', 'RII', 'Total', 'Issue',\n",
       "       'Listing Open', 'Listing Close', 'Listing', 'CMP', 'Current'],\n",
       "      dtype='object')"
      ]
     },
     "execution_count": 24,
     "metadata": {},
     "output_type": "execute_result"
    }
   ],
   "source": [
    "ipo.columns"
   ]
  },
  {
   "cell_type": "code",
   "execution_count": 25,
   "metadata": {
    "scrolled": true
   },
   "outputs": [],
   "source": [
    "ipo=ipo.drop(['Date','HNI'],axis=1)"
   ]
  },
  {
   "cell_type": "code",
   "execution_count": 26,
   "metadata": {},
   "outputs": [],
   "source": [
    "ipo=ipo.drop(['Total'],axis=1)"
   ]
  },
  {
   "cell_type": "code",
   "execution_count": 27,
   "metadata": {},
   "outputs": [],
   "source": [
    "ipo=ipo.drop(['Issue'],axis=1)"
   ]
  },
  {
   "cell_type": "code",
   "execution_count": 28,
   "metadata": {},
   "outputs": [],
   "source": [
    "ipo=ipo.drop(['Listing Open'],axis=1)"
   ]
  },
  {
   "cell_type": "code",
   "execution_count": 29,
   "metadata": {},
   "outputs": [],
   "source": [
    "ipo=ipo.drop(['CMP'],axis=1)"
   ]
  },
  {
   "cell_type": "code",
   "execution_count": 30,
   "metadata": {},
   "outputs": [
    {
     "name": "stdout",
     "output_type": "stream",
     "text": [
      "<class 'pandas.core.frame.DataFrame'>\n",
      "Int64Index: 235 entries, 1 to 237\n",
      "Data columns (total 7 columns):\n",
      " #   Column         Non-Null Count  Dtype  \n",
      "---  ------         --------------  -----  \n",
      " 0   IPO Name       235 non-null    object \n",
      " 1   Issue Size     235 non-null    float64\n",
      " 2   QIB            235 non-null    float64\n",
      " 3   RII            235 non-null    float64\n",
      " 4   Listing Close  235 non-null    float64\n",
      " 5   Listing        235 non-null    float64\n",
      " 6   Current        235 non-null    float64\n",
      "dtypes: float64(6), object(1)\n",
      "memory usage: 14.7+ KB\n"
     ]
    }
   ],
   "source": [
    "ipo.info()"
   ]
  },
  {
   "cell_type": "code",
   "execution_count": 31,
   "metadata": {},
   "outputs": [
    {
     "data": {
      "text/plain": [
       "<AxesSubplot:>"
      ]
     },
     "execution_count": 31,
     "metadata": {},
     "output_type": "execute_result"
    },
    {
     "data": {
      "image/png": "[encoded data removed]",
      "text/plain": [
       "<Figure size 432x288 with 2 Axes>"
      ]
     },
     "metadata": {
      "needs_background": "light"
     },
     "output_type": "display_data"
    }
   ],
   "source": [
    "corr = ipo.corr()\n",
    "\n",
    "# plot the heatmap\n",
    "sns.heatmap(corr, \n",
    "        xticklabels=corr.columns,\n",
    "        yticklabels=corr.columns,annot=True)"
   ]
  },
  {
   "cell_type": "markdown",
   "metadata": {},
   "source": [
    "#### Model Building"
   ]
  },
  {
   "cell_type": "code",
   "execution_count": 32,
   "metadata": {},
   "outputs": [],
   "source": [
    "from sklearn.model_selection import train_test_split\n",
    "from sklearn.linear_model import LinearRegression"
   ]
  },
  {
   "cell_type": "code",
   "execution_count": 33,
   "metadata": {},
   "outputs": [
    {
     "data": {
      "text/plain": [
       "179.924886883389"
      ]
     },
     "execution_count": 33,
     "metadata": {},
     "output_type": "execute_result"
    }
   ],
   "source": [
    "X=ipo.drop(['IPO Name','Current'],axis=1)\n",
    "y=ipo['Current']\n",
    "X_train, X_test, y_train, y_test = train_test_split(X, y, test_size=0.2, random_state=42)\n",
    "model=LinearRegression()\n",
    "model.fit(X_train,y_train)\n",
    "preds=model.predict(X_test)\n",
    "pow(pow(y_test-preds,2).mean(),0.5)"
   ]
  },
  {
   "cell_type": "code",
   "execution_count": 34,
   "metadata": {},
   "outputs": [],
   "source": [
    "from sklearn.ensemble import RandomForestRegressor\n",
    "list1=[]\n",
    "for i in range(1,100):\n",
    "    X=ipo.drop(['IPO Name','Current'],axis=1)\n",
    "    y=ipo['Current']\n",
    "    X_train, X_test, y_train, y_test = train_test_split(X, y, test_size=0.1, random_state=i)\n",
    "    model=RandomForestRegressor()\n",
    "    model.fit(X_train,y_train)\n",
    "    preds=model.predict(X_test)\n",
    "    preds2=model.predict(X_train)\n",
    "    rmse=pow(pow(y_test-preds,2).mean(),0.5)\n",
    "    rmse2=pow(pow(y_train-preds2,2).mean(),0.5)\n",
    "    if rmse2>rmse:\n",
    "        list1.append((i,rmse,rmse2))"
   ]
  },
  {
   "cell_type": "code",
   "execution_count": 35,
   "metadata": {},
   "outputs": [],
   "source": [
    "list1.sort(key=lambda x: x[1])"
   ]
  },
  {
   "cell_type": "code",
   "execution_count": 36,
   "metadata": {},
   "outputs": [
    {
     "data": {
      "text/plain": [
       "[(68, 55.12438448174878, 72.36076466578847)]"
      ]
     },
     "execution_count": 36,
     "metadata": {},
     "output_type": "execute_result"
    }
   ],
   "source": [
    "list1[:10]"
   ]
  },
  {
   "cell_type": "code",
   "execution_count": 37,
   "metadata": {},
   "outputs": [
    {
     "data": {
      "text/plain": [
       "[(17, 83.70069310566919, 178.18732623949853),\n",
       " (10, 94.85566240848857, 177.56075924189832),\n",
       " (30, 75.91656961608128, 178.48900466969488),\n",
       " (28, 81.2472226702655, 178.3442314745189),\n",
       " (5, 106.17399027787526, 177.16998845164474),\n",
       " (13, 102.77714028668284, 177.11203239820205),\n",
       " (29, 88.92487591034521, 177.86794786456744),\n",
       " (1, 117.4997045287908, 176.03299281785232),\n",
       " (34, 84.89516564323111, 178.13383400272264),\n",
       " (9, 112.74722040552379, 176.54907753673365)]"
      ]
     },
     "execution_count": 37,
     "metadata": {},
     "output_type": "execute_result"
    }
   ],
   "source": [
    "list1=[]\n",
    "for i in range(1,100):\n",
    "    X=ipo.drop(['IPO Name','Current'],axis=1)\n",
    "    y=ipo['Current']\n",
    "    X_train, X_test, y_train, y_test = train_test_split(X, y, test_size=0.1, random_state=i)\n",
    "    model=LinearRegression()\n",
    "    model.fit(X_train,y_train)\n",
    "    preds=model.predict(X_test)\n",
    "    preds2=model.predict(X_train)\n",
    "    rmse=pow(pow(y_test-preds,2).mean(),0.5)\n",
    "    rmse2=pow(pow(y_train-preds2,2).mean(),0.5)\n",
    "    if rmse2>rmse:\n",
    "        list1.append((i,rmse,rmse2))\n",
    "list1.sort(key=lambda x: x[0]+x[1])\n",
    "list1[:10]"
   ]
  },
  {
   "cell_type": "code",
   "execution_count": 38,
   "metadata": {},
   "outputs": [
    {
     "data": {
      "text/plain": [
       "[]"
      ]
     },
     "execution_count": 38,
     "metadata": {},
     "output_type": "execute_result"
    }
   ],
   "source": [
    "from xgboost import XGBRegressor\n",
    "list1=[]\n",
    "for i in range(1,100):\n",
    "    X=ipo.drop(['IPO Name','Current'],axis=1)\n",
    "    y=ipo['Current']\n",
    "    X_train, X_test, y_train, y_test = train_test_split(X, y, test_size=0.1, random_state=i)\n",
    "    model=XGBRegressor()\n",
    "    model.fit(X_train,y_train)\n",
    "    preds=model.predict(X_test)\n",
    "    preds2=model.predict(X_train)\n",
    "    rmse=pow(pow(y_test-preds,2).mean(),0.5)\n",
    "    rmse2=pow(pow(y_train-preds2,2).mean(),0.5)\n",
    "    if rmse2>rmse:\n",
    "        list1.append((i,rmse,rmse2))\n",
    "list1.sort(key=lambda x: x[1])\n",
    "list1[:10]"
   ]
  },
  {
   "cell_type": "code",
   "execution_count": 39,
   "metadata": {},
   "outputs": [
    {
     "data": {
      "text/plain": [
       "[(5, 48.66409086831198, 201.89675408979775),\n",
       " (17, 79.69392923393399, 202.00291399239734),\n",
       " (13, 83.71352902127937, 200.65135346445325),\n",
       " (29, 70.29380231815735, 200.8639684219174),\n",
       " (28, 72.34267204811701, 199.67276284455747),\n",
       " (10, 98.79165249229422, 201.1106941655166),\n",
       " (8, 109.62046487280779, 199.17849333400468),\n",
       " (30, 88.7000811832337, 200.39121776735522),\n",
       " (53, 67.03850236675643, 200.41421408972414),\n",
       " (34, 91.38218943243164, 202.18833373975403)]"
      ]
     },
     "execution_count": 39,
     "metadata": {},
     "output_type": "execute_result"
    }
   ],
   "source": [
    "from sklearn.svm import SVR\n",
    "list1=[]\n",
    "for i in range(1,100):\n",
    "    X=ipo.drop(['IPO Name','Current'],axis=1)\n",
    "    y=ipo['Current']\n",
    "    X_train, X_test, y_train, y_test = train_test_split(X, y, test_size=0.1, random_state=i)\n",
    "    model=SVR(C=1)\n",
    "    model.fit(X_train,y_train)\n",
    "    preds=model.predict(X_test)\n",
    "    preds2=model.predict(X_train)\n",
    "    rmse=pow(pow(y_test-preds,2).mean(),0.5)\n",
    "    rmse2=pow(pow(y_train-preds2,2).mean(),0.5)\n",
    "    if rmse2>rmse:\n",
    "        list1.append((i,rmse,rmse2))\n",
    "list1.sort(key=lambda x: x[1]+x[0])\n",
    "list1[:10]"
   ]
  },
  {
   "cell_type": "code",
   "execution_count": 40,
   "metadata": {},
   "outputs": [
    {
     "data": {
      "text/plain": [
       "70.05463714905548"
      ]
     },
     "execution_count": 40,
     "metadata": {},
     "output_type": "execute_result"
    }
   ],
   "source": [
    "X_train, X_test, y_train, y_test = train_test_split(X, y, test_size=0.1, random_state=68)\n",
    "model=RandomForestRegressor()\n",
    "model.fit(X_train,y_train)\n",
    "preds=model.predict(X)\n",
    "rmse=pow(pow(y-preds,2).mean(),0.5)\n",
    "rmse"
   ]
  },
  {
   "cell_type": "markdown",
   "metadata": {},
   "source": [
    "#### Deployment"
   ]
  },
  {
   "cell_type": "code",
   "execution_count": 41,
   "metadata": {},
   "outputs": [],
   "source": [
    "df1=pd.DataFrame(preds)"
   ]
  },
  {
   "cell_type": "code",
   "execution_count": 42,
   "metadata": {},
   "outputs": [],
   "source": [
    "df2=pd.DataFrame(y)"
   ]
  },
  {
   "cell_type": "code",
   "execution_count": 43,
   "metadata": {},
   "outputs": [],
   "source": [
    "df1=df1.reset_index()"
   ]
  },
  {
   "cell_type": "code",
   "execution_count": 44,
   "metadata": {},
   "outputs": [],
   "source": [
    "df2=df2.reset_index()"
   ]
  },
  {
   "cell_type": "code",
   "execution_count": 45,
   "metadata": {},
   "outputs": [],
   "source": [
    "df3=pd.concat([df1,df2],axis=1)"
   ]
  },
  {
   "cell_type": "code",
   "execution_count": 46,
   "metadata": {},
   "outputs": [],
   "source": [
    "df3.to_excel(\"IPO_2.xlsx\")"
   ]
  },
  {
   "cell_type": "markdown",
   "metadata": {},
   "source": [
    "#### Calculating how many times algorithm predicts whether the gains will be positive or negative"
   ]
  },
  {
   "cell_type": "code",
   "execution_count": 47,
   "metadata": {},
   "outputs": [
    {
     "data": {
      "text/plain": [
       "206"
      ]
     },
     "execution_count": 47,
     "metadata": {},
     "output_type": "execute_result"
    }
   ],
   "source": [
    "sum(df3[0]*df3['Current']>0)"
   ]
  },
  {
   "cell_type": "code",
   "execution_count": 49,
   "metadata": {},
   "outputs": [
    {
     "data": {
      "text/plain": [
       "0.8765957446808511"
      ]
     },
     "execution_count": 49,
     "metadata": {},
     "output_type": "execute_result"
    }
   ],
   "source": [
    "206/235"
   ]
  },
  {
   "cell_type": "markdown",
   "metadata": {},
   "source": [
    "My algorithm predicts correct gains (positive or negative ) 87.7% of the times"
   ]
  },
  {
   "cell_type": "code",
   "execution_count": null,
   "metadata": {},
   "outputs": [],
   "source": []
  }
 ],
 "metadata": {
  "kernelspec": {
   "display_name": "Python 3",
   "language": "python",
   "name": "python3"
  },
  "language_info": {
   "codemirror_mode": {
    "name": "ipython",
    "version": 3
   },
   "file_extension": ".py",
   "mimetype": "text/x-python",
   "name": "python",
   "nbconvert_exporter": "python",
   "pygments_lexer": "ipython3",
   "version": "3.7.6"
  }
 },
 "nbformat": 4,
 "nbformat_minor": 4
}
